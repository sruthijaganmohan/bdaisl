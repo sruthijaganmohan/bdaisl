{
  "nbformat": 4,
  "nbformat_minor": 0,
  "metadata": {
    "colab": {
      "provenance": []
    },
    "kernelspec": {
      "name": "python3",
      "display_name": "Python 3"
    },
    "language_info": {
      "name": "python"
    }
  },
  "cells": [
    {
      "cell_type": "markdown",
      "source": [
        "# IS Lab Assignment 1 - Chinese Remainder Theorem"
      ],
      "metadata": {
        "id": "g0y3n7sZgFNq"
      }
    },
    {
      "cell_type": "code",
      "source": [
        "def inverse(a, b):\n",
        "  m0 = b\n",
        "  x0 = 0\n",
        "  x1 = 1\n",
        "\n",
        "  if b == 1:\n",
        "    return 0\n",
        "\n",
        "  while (a > 1):\n",
        "    q = a // b\n",
        "    t = b\n",
        "    b = a % b\n",
        "    a = t\n",
        "    t = x0\n",
        "    x0 = x1 - q * x0\n",
        "    x1 = t\n",
        "\n",
        "  if x1 < 0:\n",
        "    x1 = x1 + m0\n",
        "\n",
        "  return x1\n",
        "\n",
        "def crt(m, x, k):\n",
        "  M = 1\n",
        "  for i in range (0, k):\n",
        "    M = M * m[i]\n",
        "\n",
        "  result = 0\n",
        "  for i in range (0, k):\n",
        "    Mi = M // m[i]\n",
        "    result = result + r[i] * Mi * inverse(Mi, m[i])\n",
        "\n",
        "  return result % M\n",
        "\n",
        "\n",
        "# list of moduli of equations\n",
        "m = [3, 4, 5]\n",
        "# list of remainders of equations\n",
        "r = [2, 3, 1]\n",
        "k = len(m)\n",
        "print(crt(m, r, k))"
      ],
      "metadata": {
        "colab": {
          "base_uri": "https://localhost:8080/"
        },
        "id": "pjNjYkjCKHpu",
        "outputId": "abc21c37-65ab-4afd-c88d-dbe5a3274d98"
      },
      "execution_count": null,
      "outputs": [
        {
          "output_type": "stream",
          "name": "stdout",
          "text": [
            "11\n"
          ]
        }
      ]
    },
    {
      "cell_type": "markdown",
      "source": [
        "# IS Lab Assignment 2 - Euclidean"
      ],
      "metadata": {
        "id": "teWLriWygOmT"
      }
    },
    {
      "cell_type": "code",
      "source": [],
      "metadata": {
        "id": "xfD-lXkmgSux"
      },
      "execution_count": null,
      "outputs": []
    },
    {
      "cell_type": "markdown",
      "source": [
        "# IS Lab Assignment 3 - RSA"
      ],
      "metadata": {
        "id": "qPS8-KIigVL7"
      }
    },
    {
      "cell_type": "code",
      "source": [
        "import math\n",
        "\n",
        "def isPrime(n):\n",
        "    for i in range(2, n):\n",
        "        if (n%i) == 0:\n",
        "            return False\n",
        "    return True\n",
        "\n",
        "\n",
        "# inputs\n",
        "msg = float(input(\"Enter plaintext message: \"))\n",
        "p = int(input(\"Enter p: \"))\n",
        "q = int(input(\"enter q: \"))\n",
        "\n",
        "\n",
        "if isPrime(p) and isPrime(q):\n",
        "    n = p * q\n",
        "    # toitient function\n",
        "    phi = (p - 1) * (q - 1)\n",
        "    \n",
        "    e = 2\n",
        "    while (e < phi):\n",
        "        if math.gcd(e, phi) == 1:\n",
        "            break;\n",
        "        else:\n",
        "            e += 1\n",
        "    \n",
        "    k = 2\n",
        "    d = (1 + (k * phi)) / e\n",
        "    \n",
        "    \n",
        "    # encryption\n",
        "    encrypted = pow(msg, e)\n",
        "    encrypted = math.fmod(encrypted, n)\n",
        "    print(\"Encrypted data: \", encrypted)\n",
        "    \n",
        "    # decryption\n",
        "    decrypted = pow(encrypted, d)\n",
        "    decrypted = math.fmod(decrypted, n)\n",
        "    print(\"Decrypted data: \", decrypted)"
      ],
      "metadata": {
        "colab": {
          "base_uri": "https://localhost:8080/"
        },
        "id": "esMhzqZ6gYbD",
        "outputId": "11be8fcf-ab5c-4fd3-f3ab-5fd3574f351e"
      },
      "execution_count": 2,
      "outputs": [
        {
          "output_type": "stream",
          "name": "stdout",
          "text": [
            "Enter plaintext message: 12\n",
            "Enter p: 3\n",
            "enter q: 7\n",
            "Encrypted data:  3.0\n",
            "Decrypted data:  12.0\n"
          ]
        }
      ]
    },
    {
      "cell_type": "code",
      "source": [
        "'''def gcd(a, b):\n",
        "    while (1):\n",
        "        temp = a % b;\n",
        "        if temp == 0:\n",
        "            return b\n",
        "        a = b\n",
        "        b = temp'''"
      ],
      "metadata": {
        "id": "Y2Xl4XtA4H50"
      },
      "execution_count": null,
      "outputs": []
    }
  ]
}